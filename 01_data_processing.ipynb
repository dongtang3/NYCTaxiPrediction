{
 "cells": [
  {
   "cell_type": "markdown",
   "source": [
    "# Data Processing"
   ],
   "metadata": {
    "collapsed": false
   },
   "id": "7ccee19e788194f3"
  },
  {
   "cell_type": "code",
   "outputs": [],
   "source": [
    "import pandas as pd\n",
    "import datetime\n",
    "import time\n",
    "import numpy as np\n",
    "import matplotlib.pylab as plt\n",
    "import seaborn as sns  #Plots\n",
    "import pickle #to save the model\n",
    "import warnings"
   ],
   "metadata": {
    "collapsed": false
   },
   "id": "initial_id",
   "execution_count": null
  },
  {
   "cell_type": "code",
   "outputs": [],
   "source": [
    "%%bash\n",
    "wget https://d37ci6vzurychx.cloudfront.net/misc/taxi+_zone_lookup.csv\n",
    "wget https://data.cityofnewyork.us/api/geospatial/d3c5-ddgc\\?method\\=export\\&format\\=GeoJSON -O taxi_zones.geojson"
   ],
   "metadata": {
    "collapsed": false
   },
   "id": "f38ee4cc88fe3c2e"
  },
  {
   "cell_type": "code",
   "outputs": [],
   "source": [
    "%%bash\n",
    "for i in {1..12}\n",
    "do\n",
    "    wget https://d37ci6vzurychx.cloudfront.net/trip-data/yellow_tripdata_2022-$(printf \"%02d\" $i).parquet\n",
    "done\n",
    "mkdir yellow_tripdata_2022\n",
    "mv yellow_tripdata_2022-*.parquet yellow_tripdata_2022\n"
   ],
   "metadata": {
    "collapsed": false
   },
   "id": "c71e8cfc31fc1026",
   "execution_count": null
  },
  {
   "cell_type": "code",
   "outputs": [],
   "source": [
    "\n",
    "import datetime\n",
    "import pandas as pd\n",
    "\n",
    "trips = pd.read_parquet(\n",
    "    'yellow_tripdata_2022'\n",
    "    )\n",
    "# Remove outliers.\n",
    "trips = trips[(trips['tpep_pickup_datetime'] >= datetime.datetime(2022, 1, 1)) & (trips['tpep_pickup_datetime'] <= datetime.datetime(2022, 12, 31))]\n",
    "trips.head()\n"
   ],
   "metadata": {
    "collapsed": false
   },
   "id": "d79225282312588",
   "execution_count": null
  },
  {
   "cell_type": "code",
   "outputs": [],
   "source": [
    "trips.dtypes"
   ],
   "metadata": {
    "collapsed": false
   },
   "id": "c1180a4beca6c9f1"
  },
  {
   "cell_type": "code",
   "outputs": [],
   "source": [
    "trips.shape"
   ],
   "metadata": {
    "collapsed": false
   },
   "id": "e6bda1641c0de082"
  },
  {
   "cell_type": "code",
   "outputs": [],
   "source": [
    "taxi_zones = pd.read_csv('taxi+_zone_lookup.csv', usecols=['LocationID', 'Zone'])\n",
    "taxi_zones.set_index(['LocationID'], inplace=True)\n",
    "taxi_zones"
   ],
   "metadata": {
    "collapsed": false
   },
   "id": "a737c6c185e377f6",
   "execution_count": null
  },
  {
   "cell_type": "code",
   "outputs": [],
   "source": [
    "import json\n",
    "with open('taxi_zones.geojson') as fd:\n",
    "    geojson = json.load(fd)"
   ],
   "metadata": {
    "collapsed": false
   },
   "id": "994e1589dc7d2fd2",
   "execution_count": null
  },
  {
   "cell_type": "markdown",
   "source": [
    "## Temporal Analysis\n",
    "\n",
    "\n"
   ],
   "metadata": {
    "collapsed": false
   },
   "id": "2fbb157fbdfb5eef"
  },
  {
   "cell_type": "markdown",
   "source": [],
   "metadata": {
    "collapsed": false
   },
   "id": "5991427f227393ef"
  },
  {
   "cell_type": "code",
   "outputs": [],
   "source": [
    "trips['PU_dayofweek'] = trips['tpep_pickup_datetime'].dt.dayofweek\n",
    "trips['PU_hour'] = trips['tpep_pickup_datetime'].dt.hour\n",
    "gb_time = trips.groupby(by=['PU_dayofweek', 'PU_hour'], as_index=False).agg(count=('PU_dayofweek', 'count'))\n",
    "gb_time"
   ],
   "metadata": {
    "collapsed": false
   },
   "id": "2bf093e4d79f9911",
   "execution_count": null
  },
  {
   "cell_type": "code",
   "outputs": [],
   "source": [
    "import plotly.express as px\n",
    "\n",
    "b = px.bar(\n",
    "    gb_time,\n",
    "    x='PU_hour',\n",
    "    y='count',\n",
    "    color='PU_dayofweek',\n",
    "    color_continuous_scale='sunset_r',\n",
    ")\n",
    "b.show()"
   ],
   "metadata": {
    "collapsed": false
   },
   "id": "2b451b4afb740036",
   "execution_count": null
  },
  {
   "cell_type": "code",
   "outputs": [],
   "source": [
    "b = px.bar(\n",
    "    gb_time,\n",
    "    x='PU_dayofweek',\n",
    "    y='count',\n",
    "    color='PU_hour',\n",
    "    color_continuous_scale='sunset_r',\n",
    ")\n",
    "b.show()"
   ],
   "metadata": {
    "collapsed": false
   },
   "id": "a0679247d042b19d",
   "execution_count": null
  },
  {
   "cell_type": "markdown",
   "source": [
    "Spatial Analysis\n"
   ],
   "metadata": {
    "collapsed": false
   },
   "id": "57af89a187d5bf84"
  },
  {
   "cell_type": "markdown",
   "source": [
    "## Spatial Analysis\n"
   ],
   "metadata": {
    "collapsed": false
   },
   "id": "8996e11fe6c01fb5"
  },
  {
   "cell_type": "markdown",
   "source": [],
   "metadata": {
    "collapsed": false
   },
   "id": "f2998d6680dfa6c2"
  },
  {
   "cell_type": "code",
   "outputs": [],
   "source": [
    "gb_pu_location = trips.groupby(['PULocationID'], as_index=False).agg(count=('PULocationID', 'count'))\n",
    "gb_pu_location"
   ],
   "metadata": {
    "collapsed": false
   },
   "id": "1a4296d41ab15ec8",
   "execution_count": null
  },
  {
   "cell_type": "code",
   "outputs": [],
   "source": [
    "import plotly.graph_objects as go\n",
    "\n",
    "fig = go.Figure(\n",
    "    go.Choroplethmapbox(\n",
    "        geojson=geojson,\n",
    "        featureidkey='properties.location_id',\n",
    "        locations=gb_pu_location['PULocationID'],\n",
    "        z=gb_pu_location['count'],\n",
    "        colorscale=\"Viridis\",\n",
    "        marker_opacity=0.7,\n",
    "        marker_line_width=0.1\n",
    "    )\n",
    ")\n",
    "fig.update_layout(\n",
    "    mapbox_style=\"carto-positron\",\n",
    "    mapbox_zoom=9,\n",
    "    mapbox_center = {\"lat\": 40.7158, \"lon\": -73.9805},\n",
    "    height=600,\n",
    ")\n",
    "fig.show()"
   ],
   "metadata": {
    "collapsed": false
   },
   "id": "ed35ef3242d221f9",
   "execution_count": null
  },
  {
   "cell_type": "code",
   "outputs": [],
   "source": [],
   "metadata": {
    "collapsed": false
   },
   "id": "ca918a3ab208f360"
  }
 ],
 "metadata": {
  "kernelspec": {
   "display_name": "Python 3",
   "language": "python",
   "name": "python3"
  },
  "language_info": {
   "codemirror_mode": {
    "name": "ipython",
    "version": 2
   },
   "file_extension": ".py",
   "mimetype": "text/x-python",
   "name": "python",
   "nbconvert_exporter": "python",
   "pygments_lexer": "ipython2",
   "version": "2.7.6"
  }
 },
 "nbformat": 4,
 "nbformat_minor": 5
}
